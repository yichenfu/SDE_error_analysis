{
 "cells": [
  {
   "cell_type": "markdown",
   "metadata": {},
   "source": [
    "# Error analysis and conservative properties of numerical SDEs 2: Milstein"
   ]
  },
  {
   "cell_type": "code",
   "execution_count": 1,
   "metadata": {},
   "outputs": [],
   "source": [
    "import numpy as np\n",
    "import matplotlib.pyplot as plt\n",
    "import time\n",
    "import pickle\n",
    "import ipyparallel as ipp\n",
    "\n",
    "# use latex in the notebook. Might casue trouble if pc do not have such latex packages\n",
    "from matplotlib import rc\n",
    "rc('font',**{'family':'sans-serif','sans-serif':['Helvetica']})\n",
    "rc('text', usetex=True)\n",
    "rc('text.latex', preamble=r'\\usepackage{amsfonts} \\usepackage{amsmath} \\usepackage{bm}')\n",
    "\n",
    "# generate high quality figures in notebook\n",
    "%config InlineBackend.figure_format = 'retina'"
   ]
  },
  {
   "cell_type": "code",
   "execution_count": 2,
   "metadata": {},
   "outputs": [
    {
     "data": {
      "application/javascript": [
       "MathJax.Hub.Config({\n",
       "    TeX: { equationNumbers: { autoNumber: \"AMS\" } }\n",
       "});\n"
      ],
      "text/plain": [
       "<IPython.core.display.Javascript object>"
      ]
     },
     "metadata": {},
     "output_type": "display_data"
    }
   ],
   "source": [
    "%%javascript\n",
    "MathJax.Hub.Config({\n",
    "    TeX: { equationNumbers: { autoNumber: \"AMS\" } }\n",
    "});"
   ]
  },
  {
   "cell_type": "markdown",
   "metadata": {},
   "source": [
    "## Basic equations\n",
    "\n",
    "The Milstein method in more than one dimension is not easy to implement. The reason is that in 1D, we have the following integral with explicit results:\n",
    "\n",
    "\\begin{align}\n",
    "\\int_0^{\\Delta t} \\mathrm{d}W_t = \\Delta W, \\quad\n",
    "\\int_0^{\\Delta t} \\int_0^{t_1} \\mathrm{d}W_{t_2} \\mathrm{d}W_{t_1}\n",
    "= \\dfrac{1}{2} \\left[ \\left( \\int_0^{\\Delta t} \\mathrm{d}W_t  \\right)^2  - \\Delta t \\right] \n",
    "= \\dfrac{1}{2} \\left( \\Delta W^2  - \\Delta t \\right), \n",
    "\\quad \\Delta W \\sim \\mathcal{N}(0,\\Delta t)\n",
    "\\end{align}\n",
    "\n",
    "But for more than 1 dimension, we'll encounter the following integral:\n",
    "\n",
    "\\begin{align}\n",
    "\\int_0^{\\Delta t} \\int_0^{t_1} \\mathrm{d}W^1_{t_2} \\mathrm{d}W^2_{t_1}, \n",
    "\\end{align}\n",
    "\n",
    "where $W_t^1, W_t^2$ are two independent Wiener process. This integral has no explicit result and thus hard to implement in numerical calculation. \n",
    "\n",
    "# GG"
   ]
  },
  {
   "cell_type": "code",
   "execution_count": null,
   "metadata": {},
   "outputs": [],
   "source": []
  }
 ],
 "metadata": {
  "kernelspec": {
   "display_name": "Python 3",
   "language": "python",
   "name": "python3"
  },
  "language_info": {
   "codemirror_mode": {
    "name": "ipython",
    "version": 3
   },
   "file_extension": ".py",
   "mimetype": "text/x-python",
   "name": "python",
   "nbconvert_exporter": "python",
   "pygments_lexer": "ipython3",
   "version": "3.7.5"
  }
 },
 "nbformat": 4,
 "nbformat_minor": 4
}
